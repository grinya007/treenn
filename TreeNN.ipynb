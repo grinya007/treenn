{
 "cells": [
  {
   "cell_type": "code",
   "execution_count": 131,
   "metadata": {},
   "outputs": [],
   "source": [
    "import torch\n",
    "import torch.nn as nn\n",
    "import torch.optim as optim\n",
    "import numpy as np"
   ]
  },
  {
   "cell_type": "code",
   "execution_count": 135,
   "metadata": {},
   "outputs": [],
   "source": [
    "class TreeNNLayer(nn.Module):\n",
    "    def __init__(self, layer_class, out_features, *in_layers, **kwargs):\n",
    "        super(__class__, self).__init__()\n",
    "        \n",
    "        self.in_layers = in_layers\n",
    "        if len(in_layers):\n",
    "            self.has_in_layers = True\n",
    "            self.in_features = sum(map(lambda l: l.out_features, in_layers))\n",
    "            self.in_key = None\n",
    "        else:\n",
    "            self.has_in_layers = False\n",
    "            self.in_features = kwargs['in_features']\n",
    "            self.in_key = kwargs['in_key']\n",
    "            \n",
    "        self.out_features = out_features\n",
    "        \n",
    "        layer_args = {}\n",
    "        if 'layer_args' in kwargs:\n",
    "            layer_args = kwargs['layer_args']\n",
    "\n",
    "        # FIXME find a better way to know whether to pass in/out features\n",
    "        if getattr(nn, layer_class).__module__.endswith('activation'):\n",
    "            self.layer = getattr(nn, layer_class)(**layer_args)\n",
    "        else:\n",
    "            self.layer = getattr(nn, layer_class)(self.in_features, self.out_features, **layer_args)\n",
    "        \n",
    "    def forward(self, X):\n",
    "        if not self.has_in_layers:\n",
    "            assert isinstance(X, dict)\n",
    "            return self.layer(X[self.in_key])\n",
    "        \n",
    "        inputs = []\n",
    "        for layer in self.in_layers:\n",
    "            inputs.append(layer(X))\n",
    "        \n",
    "        return self.layer(torch.cat(inputs, 1))\n",
    "\n",
    "\n",
    "class TreeNN(nn.Module):\n",
    "    def __init__(self, loss_class, optimizer_class, lr, out_layer, loss_args = {}, optimizer_args = {}):\n",
    "        super(__class__, self).__init__()\n",
    "        \n",
    "        self.out_layer = out_layer\n",
    "        \n",
    "        self.loss = getattr(nn, loss_class)(**loss_args)\n",
    "        \n",
    "        optimizer_args['lr'] = lr\n",
    "        self.optimizer = getattr(optim, optimizer_class)(self.parameters(), **optimizer_args)\n",
    "        \n",
    "    def forward(self, X):\n",
    "        return self.out_layer(X)\n",
    "        \n",
    "    def fit(self, X, Y):\n",
    "        Y_hat = self(X)\n",
    "        \n",
    "        loss = self.loss(Y_hat, Y)\n",
    "        loss.backward()\n",
    "        \n",
    "        self.optimizer.step()\n",
    "        self.zero_grad()\n",
    "        \n",
    "        return loss.item()\n",
    "        "
   ]
  },
  {
   "cell_type": "code",
   "execution_count": 136,
   "metadata": {},
   "outputs": [
    {
     "data": {
      "text/plain": [
       "TreeNN(\n",
       "  (out_layer): TreeNNLayer(\n",
       "    (layer): Linear(in_features=16, out_features=1, bias=True)\n",
       "  )\n",
       "  (loss): MSELoss()\n",
       ")"
      ]
     },
     "execution_count": 136,
     "metadata": {},
     "output_type": "execute_result"
    }
   ],
   "source": [
    "treenn = TreeNN(\n",
    "    'MSELoss', 'Adagrad', 0.1, TreeNNLayer('Linear', 1,\n",
    "        TreeNNLayer('ReLU', 8,\n",
    "            TreeNNLayer('Linear', 8, in_features = 4, in_key = 'foo')\n",
    "        ),\n",
    "        TreeNNLayer('ReLU', 8,\n",
    "            TreeNNLayer('Linear', 8, in_features = 4, in_key = 'bar')\n",
    "        )\n",
    "    )\n",
    ")\n",
    "treenn"
   ]
  },
  {
   "cell_type": "code",
   "execution_count": 142,
   "metadata": {},
   "outputs": [
    {
     "data": {
      "text/plain": [
       "0.0003173103032168001"
      ]
     },
     "execution_count": 142,
     "metadata": {},
     "output_type": "execute_result"
    }
   ],
   "source": [
    "treenn.fit({\n",
    "    'foo': torch.tensor([1, 2, 3, 4], dtype=torch.float).view(1, -1),\n",
    "    'bar': torch.tensor([10, 20, 30, 40], dtype=torch.float).view(1, -1)\n",
    "}, torch.tensor([5], dtype=torch.float).view(1, -1))"
   ]
  },
  {
   "cell_type": "code",
   "execution_count": null,
   "metadata": {},
   "outputs": [],
   "source": []
  }
 ],
 "metadata": {
  "kernelspec": {
   "display_name": "Python 3",
   "language": "python",
   "name": "python3"
  },
  "language_info": {
   "codemirror_mode": {
    "name": "ipython",
    "version": 3
   },
   "file_extension": ".py",
   "mimetype": "text/x-python",
   "name": "python",
   "nbconvert_exporter": "python",
   "pygments_lexer": "ipython3",
   "version": "3.6.8"
  }
 },
 "nbformat": 4,
 "nbformat_minor": 4
}
